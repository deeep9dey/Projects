{
 "cells": [
  {
   "cell_type": "code",
   "execution_count": 1,
   "id": "4b316212",
   "metadata": {},
   "outputs": [],
   "source": [
    "import os\n",
    "import json\n",
    "\n",
    "dictionary={}"
   ]
  },
  {
   "cell_type": "code",
   "execution_count": 2,
   "id": "5c13e7bc",
   "metadata": {},
   "outputs": [],
   "source": [
    "def saveDictionary(tmp_dict):\n",
    "    try:\n",
    "        with open('words.txt','wb') as dictionary:\n",
    "            print(\"SUCCESS:writing to dictionary words.txt\")\n",
    "    except Exception as e:\n",
    "        print(f\"ERROR:{e}\")"
   ]
  },
  {
   "cell_type": "code",
   "execution_count": 3,
   "id": "934dc82d",
   "metadata": {},
   "outputs": [],
   "source": [
    "def addNewWord():\n",
    "    print(\"Add New Word With Appropriate Meaning:\")\n",
    "    word=input(\"Enter The Word:\")\n",
    "    meaning=input(f\"Enter The Meaning Of  The {word}\")\n",
    "    dictionary[word]=meaning ###\n",
    "    f=open('words.txt','w')\n",
    "    json.dump(dictionary,f)\n",
    "    f.close()"
   ]
  },
  {
   "cell_type": "code",
   "execution_count": 4,
   "id": "73f06b23",
   "metadata": {},
   "outputs": [],
   "source": [
    "def findMeaning():\n",
    "    print(\"ENGLISH DICTIONARY!!\")\n",
    "    word=input(\"Enter A Word To Find The Meaning\")\n",
    "    f=open('words.txt','r')\n",
    "    dictionary=json.load(f)\n",
    "    if word in dictionary:\n",
    "        print(f\"Found Entry:[{word}:{dictionary[word]}]\")\n",
    "        f.close()\n",
    "    else:\n",
    "        print(\"ERROR: The Word Does Not Exist!\")\n",
    "        f.close()"
   ]
  },
  {
   "cell_type": "code",
   "execution_count": 5,
   "id": "41ef2326",
   "metadata": {},
   "outputs": [],
   "source": [
    "def updateWord():\n",
    "    print(\"ENGLISH DICTIONARY!!\")\n",
    "    word=input(\"Enter A Word To Edit\")\n",
    "    f=open('words.txt','r')\n",
    "    dictionary=json.load(f)\n",
    "    f.close()\n",
    "    if word in dictionary:\n",
    "        print(f\"Enter a New Meaning To The Word [{word}:{dictionary[word]}] to:\")\n",
    "        new_meaning=input(\">>\")\n",
    "        dictionary[word]=new_meaning\n",
    "        f=open('words.txt','w')\n",
    "        json.dump(dictionary,f)\n",
    "        print(f\"SUCCESS:Updated to [{word}:{dictionary[word]}]\")   \n",
    "        f.close()\n",
    "    else:\n",
    "        print(\"ERROR: The word doesnot exist!\")\n",
    "        f.close()"
   ]
  },
  {
   "cell_type": "code",
   "execution_count": 6,
   "id": "45fab9f6",
   "metadata": {},
   "outputs": [],
   "source": [
    "def main_menu():\n",
    "    print(\"ENGLISH DICTIONARY!!\")\n",
    "    print(\"1) Add A New Word\")\n",
    "    print(\"2) Find The Meaning Of A Word\")\n",
    "    print(\"3) Update A Word\")\n",
    "    print(\"4) Exit\")\n",
    "    while True:\n",
    "        n=int(input( ))\n",
    "        if n==1:\n",
    "            addNewWord()\n",
    "        elif n==2:\n",
    "            findMeaning()\n",
    "        elif n==3:\n",
    "            updateWord()\n",
    "        elif n==4:\n",
    "            break \n",
    "        else:\n",
    "            print(\"ERROR:Your Choise is Invalid!!\")"
   ]
  },
  {
   "cell_type": "code",
   "execution_count": 7,
   "id": "a891cb90",
   "metadata": {
    "scrolled": false
   },
   "outputs": [
    {
     "name": "stdout",
     "output_type": "stream",
     "text": [
      "ENGLISH DICTIONARY!!\n",
      "1) Add A New Word\n",
      "2) Find The Meaning Of A Word\n",
      "3) Update A Word\n",
      "4) Exit\n",
      "1\n",
      "Add New Word With Appropriate Meaning:\n",
      "Enter The Word:Deep\n",
      "Enter The Meaning Of  The DeepDey\n",
      "2\n",
      "ENGLISH DICTIONARY!!\n",
      "Enter A Word To Find The MeaningDeep\n",
      "Found Entry:[Deep:Dey]\n",
      "4\n"
     ]
    }
   ],
   "source": [
    "main_menu()"
   ]
  },
  {
   "cell_type": "markdown",
   "id": "52863087",
   "metadata": {},
   "source": [
    "### "
   ]
  }
 ],
 "metadata": {
  "kernelspec": {
   "display_name": "Python 3 (ipykernel)",
   "language": "python",
   "name": "python3"
  },
  "language_info": {
   "codemirror_mode": {
    "name": "ipython",
    "version": 3
   },
   "file_extension": ".py",
   "mimetype": "text/x-python",
   "name": "python",
   "nbconvert_exporter": "python",
   "pygments_lexer": "ipython3",
   "version": "3.9.12"
  }
 },
 "nbformat": 4,
 "nbformat_minor": 5
}
